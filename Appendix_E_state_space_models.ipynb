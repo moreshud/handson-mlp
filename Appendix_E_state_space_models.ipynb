{
 "cells": [
  {
   "cell_type": "markdown",
   "metadata": {},
   "source": [
    "**Appendix E – State Space Models**"
   ]
  },
  {
   "cell_type": "markdown",
   "metadata": {},
   "source": [
    "_This notebook contains all the sample code in Appendix E._"
   ]
  },
  {
   "cell_type": "markdown",
   "metadata": {},
   "source": [
    "<table align=\"left\">\n",
    "  <td>\n",
    "    <a href=\"https://colab.research.google.com/github/ageron/handson-mlp/blob/main/Appendix_E_state_space_models.ipynb\" target=\"_parent\"><img src=\"https://colab.research.google.com/assets/colab-badge.svg\" alt=\"Open In Colab\"/></a>\n",
    "  </td>\n",
    "  <td>\n",
    "    <a target=\"_blank\" href=\"https://kaggle.com/kernels/welcome?src=https://github.com/ageron/handson-mlp/blob/main/Appendix_E_state_space_models.ipynb\"><img src=\"https://kaggle.com/static/images/open-in-kaggle.svg\" /></a>\n",
    "  </td>\n",
    "</table>"
   ]
  },
  {
   "cell_type": "markdown",
   "metadata": {},
   "source": [
    "# Setup"
   ]
  },
  {
   "cell_type": "markdown",
   "metadata": {},
   "source": [
    "This project requires Python 3.10 or above:"
   ]
  },
  {
   "cell_type": "code",
   "execution_count": 1,
   "metadata": {},
   "outputs": [],
   "source": [
    "import sys\n",
    "\n",
    "assert sys.version_info >= (3, 10)"
   ]
  },
  {
   "cell_type": "markdown",
   "metadata": {},
   "source": [
    "Are we using Colab or Kaggle?"
   ]
  },
  {
   "cell_type": "code",
   "execution_count": 2,
   "metadata": {},
   "outputs": [],
   "source": [
    "IS_COLAB = \"google.colab\" in sys.modules\n",
    "IS_KAGGLE = \"kaggle_secrets\" in sys.modules"
   ]
  },
  {
   "cell_type": "markdown",
   "metadata": {},
   "source": [
    "And PyTorch ≥ 2.6.0:"
   ]
  },
  {
   "cell_type": "code",
   "execution_count": 3,
   "metadata": {},
   "outputs": [],
   "source": [
    "from packaging.version import Version\n",
    "import torch\n",
    "\n",
    "assert Version(torch.__version__) >= Version(\"2.6.0\")"
   ]
  },
  {
   "cell_type": "markdown",
   "metadata": {},
   "source": [
    "As we did in earlier chapters, let's define the default font sizes to make the figures prettier:"
   ]
  },
  {
   "cell_type": "code",
   "execution_count": 4,
   "metadata": {},
   "outputs": [],
   "source": [
    "import matplotlib.pyplot as plt\n",
    "\n",
    "plt.rc('font', size=14)\n",
    "plt.rc('axes', labelsize=14, titlesize=14)\n",
    "plt.rc('legend', fontsize=14)\n",
    "plt.rc('xtick', labelsize=10)\n",
    "plt.rc('ytick', labelsize=10)"
   ]
  },
  {
   "cell_type": "markdown",
   "metadata": {},
   "source": [
    "This chapter can be very slow without a hardware accelerator, so if we can find one, let's use it:"
   ]
  },
  {
   "cell_type": "code",
   "execution_count": 5,
   "metadata": {},
   "outputs": [
    {
     "data": {
      "application/vnd.google.colaboratory.intrinsic+json": {
       "type": "string"
      },
      "text/plain": [
       "'cuda'"
      ]
     },
     "execution_count": 5,
     "metadata": {},
     "output_type": "execute_result"
    }
   ],
   "source": [
    "if torch.cuda.is_available():\n",
    "    device = \"cuda\"\n",
    "elif torch.backends.mps.is_available():\n",
    "    device = \"mps\"\n",
    "else:\n",
    "    device = \"cpu\"\n",
    "\n",
    "device"
   ]
  },
  {
   "cell_type": "markdown",
   "metadata": {},
   "source": [
    "Let's issue a warning if there's no hardware accelerator available:"
   ]
  },
  {
   "cell_type": "code",
   "execution_count": 6,
   "metadata": {},
   "outputs": [],
   "source": [
    "if device == \"cpu\":\n",
    "    print(\"Neural nets can be very slow without a hardware accelerator.\")\n",
    "    if IS_COLAB:\n",
    "        print(\"Go to Runtime > Change runtime and select a GPU hardware \"\n",
    "              \"accelerator.\")\n",
    "    if IS_KAGGLE:\n",
    "        print(\"Go to Settings > Accelerator and select GPU.\")"
   ]
  },
  {
   "cell_type": "markdown",
   "metadata": {},
   "source": [
    "# Traditional SSMs"
   ]
  },
  {
   "cell_type": "code",
   "execution_count": 7,
   "metadata": {},
   "outputs": [],
   "source": [
    "import torch\n",
    "import torch.nn as nn"
   ]
  },
  {
   "cell_type": "code",
   "execution_count": 8,
   "metadata": {},
   "outputs": [],
   "source": [
    "import torch\n",
    "\n",
    "class BasicSSM(nn.Module):\n",
    "    def __init__(self, d_input, d_state, d_output):\n",
    "        super().__init__()\n",
    "        self.d_state = d_state\n",
    "        self.A = nn.Parameter(torch.randn(d_state, d_state))\n",
    "        self.B = nn.Parameter(torch.randn(d_state, d_input))\n",
    "        self.C = nn.Parameter(torch.randn(d_output, d_state))\n",
    "        self.D = nn.Parameter(torch.randn(d_output, d_input))\n",
    "\n",
    "    def forward(self, x):\n",
    "        batch_size, seq_len, _ = x.shape\n",
    "        h = torch.zeros(batch_size, self.d_state, device=x.device)\n",
    "        outputs = []\n",
    "        for i in range(seq_len):\n",
    "            x_t = x[:, i, :]\n",
    "            h = h @ self.A.T + x_t @ self.B.T\n",
    "            y = h @ self.C.T + x_t @ self.D.T\n",
    "            outputs.append(y)\n",
    "\n",
    "        return torch.stack(outputs, dim=1)"
   ]
  },
  {
   "cell_type": "code",
   "execution_count": 9,
   "metadata": {},
   "outputs": [
    {
     "data": {
      "text/plain": [
       "torch.Size([32, 128, 64])"
      ]
     },
     "execution_count": 9,
     "metadata": {},
     "output_type": "execute_result"
    }
   ],
   "source": [
    "batch_size, seq_len, d_input = 32, 128, 64\n",
    "d_state, d_output = 256, 64\n",
    "ssm = BasicSSM(d_input, d_state, d_output)\n",
    "X = torch.randn(batch_size, seq_len, d_input)\n",
    "ssm(X).shape"
   ]
  },
  {
   "cell_type": "code",
   "execution_count": 10,
   "metadata": {},
   "outputs": [],
   "source": [
    "def zoh(A, B, dt):\n",
    "    # extra code for the MPS device which does not support matrix exp\n",
    "    device = A.device\n",
    "    if device.type == \"mps\":\n",
    "        A, B, dt = A.cpu(), B.cpu(), dt.cpu()\n",
    "\n",
    "    d_state = A.size(-1)\n",
    "    A_discrete = torch.matrix_exp(A * dt)\n",
    "    Y = (A_discrete - torch.eye(d_state, device=A.device)) @ B\n",
    "    B_discrete = torch.linalg.solve(A, Y)  # == torch.linalg.inv(A) @ Y\n",
    "\n",
    "    # extra code for the MPS device which does not support matrix exp\n",
    "    if device == \"mps\":\n",
    "        A_discrete, B_discrete = A_discrete.to(device), B_discrete.to(device)\n",
    "\n",
    "    return A_discrete, B_discrete"
   ]
  },
  {
   "cell_type": "code",
   "execution_count": 11,
   "metadata": {},
   "outputs": [],
   "source": [
    "from scipy.linalg import logm\n",
    "\n",
    "def inv_zoh(A_discrete, B_discrete, dt):\n",
    "    d_state = A_discrete.size(-1)\n",
    "    A_discrete_np = A_discrete.cpu().numpy()\n",
    "    A_np = (1.0 / dt.item()) * logm(A_discrete_np)\n",
    "    A = torch.tensor(A_np, dtype=A_discrete.dtype, device=A_discrete.device)\n",
    "    Y = A @ B_discrete\n",
    "    B = torch.linalg.solve(A_discrete - torch.eye(d_state, device=A.device), Y)\n",
    "    return A, B"
   ]
  },
  {
   "cell_type": "code",
   "execution_count": 12,
   "metadata": {},
   "outputs": [
    {
     "name": "stdout",
     "output_type": "stream",
     "text": [
      "(1.1793252138736499e-11, 4.045257018248094e-09)\n"
     ]
    }
   ],
   "source": [
    "torch.manual_seed(42)\n",
    "A = torch.randn(128, 128)\n",
    "B = torch.randn(128, 17)\n",
    "dt = torch.tensor(0.1)\n",
    "A_discrete, B_discrete = zoh(A, B, dt)\n",
    "A2, B2 = inv_zoh(A_discrete, B_discrete, dt)\n",
    "\n",
    "mse_A = ((A - A2)**2).mean()\n",
    "mse_B = ((B - B2)**2).mean()\n",
    "mse_A.item(), mse_B.item()"
   ]
  },
  {
   "cell_type": "markdown",
   "metadata": {},
   "source": [
    "# Legendre Memory Unit (LMU)"
   ]
  },
  {
   "cell_type": "markdown",
   "metadata": {},
   "source": [
    "This code processes an input vector **u**<sub>_k_</sub> through multiple SSMs (one per input dimension) efficiently, for each instance in the batch:"
   ]
  },
  {
   "cell_type": "code",
   "execution_count": 13,
   "metadata": {},
   "outputs": [],
   "source": [
    "batch_size, d_state, d_input = 64, 128, 32\n",
    "\n",
    "A = torch.randn(1, 1, d_state, d_state)  # state-to-state matrix, shared by SSMs\n",
    "B = torch.randn(1, 1, d_state, 1)  # input-to-state vector, shared by SSMs\n",
    "H = torch.randn(batch_size, d_input, d_state, 1)  # state vector per inst. & SSM\n",
    "u = torch.randn(batch_size, 1, 1, 1)  # input scalar, one per instance\n",
    "\n",
    "H = A @ H + B @ u  # update states of all SSMs across all instances, in parallel\n",
    "y = H.view(batch_size, d_input * d_state)  # concat. outputs for all instances"
   ]
  },
  {
   "cell_type": "code",
   "execution_count": 14,
   "metadata": {},
   "outputs": [
    {
     "data": {
      "text/plain": [
       "torch.Size([64, 32, 128, 1])"
      ]
     },
     "execution_count": 14,
     "metadata": {},
     "output_type": "execute_result"
    }
   ],
   "source": [
    "H.shape"
   ]
  },
  {
   "cell_type": "code",
   "execution_count": 15,
   "metadata": {},
   "outputs": [
    {
     "data": {
      "text/plain": [
       "torch.Size([64, 4096])"
      ]
     },
     "execution_count": 15,
     "metadata": {},
     "output_type": "execute_result"
    }
   ],
   "source": [
    "y.shape"
   ]
  },
  {
   "cell_type": "markdown",
   "metadata": {},
   "source": [
    "Show shifted Legendre polynomials:"
   ]
  },
  {
   "cell_type": "code",
   "execution_count": 16,
   "metadata": {},
   "outputs": [],
   "source": [
    "from scipy.special import binom\n",
    "\n",
    "def shifted_legendre_polynomial(k, x):\n",
    "    coeffs = [(-1)**i * binom(k, i) * binom(k + i, k) for i in range(k + 1)]\n",
    "    coeffs = (-1) ** k * torch.tensor(coeffs, dtype=x.dtype)\n",
    "    powers = x.unsqueeze(-1) ** torch.arange(k + 1, device=x.device)\n",
    "    return (coeffs * powers).sum(dim=-1)"
   ]
  },
  {
   "cell_type": "code",
   "execution_count": 17,
   "metadata": {},
   "outputs": [
    {
     "data": {
      "image/png": "[encoded data removed]",
      "text/plain": [
       "<Figure size 800x400 with 1 Axes>"
      ]
     },
     "metadata": {},
     "output_type": "display_data"
    }
   ],
   "source": [
    "x = torch.linspace(0, 1, 500)\n",
    "k_max = 5\n",
    "plt.figure(figsize=(8, 4))\n",
    "for k in range(k_max):\n",
    "    y = shifted_legendre_polynomial(k, x)\n",
    "    plt.plot(x, y)\n",
    "    plt.grid(True)\n",
    "    plt.axis([0, 1, -1.05, 1.05])\n",
    "    plt.ylabel(r\"$\\mathcal{P}_k(x)$   \", rotation=0)\n",
    "    plt.xlabel(r\"$x$\")\n",
    "\n",
    "colors = plt.rcParams['axes.prop_cycle'].by_key()['color']\n",
    "plt.text(0.46, 0.85, r\"$\\mathcal{P}_0(x)$\", color=colors[0])\n",
    "plt.text(0.23, -0.65, r\"$\\mathcal{P}_1(x)$\", color=colors[1])\n",
    "plt.text(0.46, -0.65, r\"$\\mathcal{P}_2(x)$\", color=colors[2])\n",
    "plt.text(0.68, -0.65, r\"$\\mathcal{P}_3(x)$\", color=colors[3])\n",
    "plt.text(0.81, -0.65, r\"$\\mathcal{P}_4(x)$\", color=colors[4])\n",
    "\n",
    "plt.show()"
   ]
  },
  {
   "cell_type": "code",
   "execution_count": 18,
   "metadata": {},
   "outputs": [],
   "source": [
    "def reconstructed_function(h, x):\n",
    "    Pks = [shifted_legendre_polynomial(k, x) for k in range(h.size(0))]\n",
    "    return (h.unsqueeze(-1) * torch.stack(Pks)).sum(dim=0)"
   ]
  },
  {
   "cell_type": "code",
   "execution_count": 19,
   "metadata": {},
   "outputs": [
    {
     "data": {
      "text/plain": [
       "torch.Size([500])"
      ]
     },
     "execution_count": 19,
     "metadata": {},
     "output_type": "execute_result"
    }
   ],
   "source": [
    "torch.manual_seed(13)\n",
    "weights = torch.randn(k_max + 3)\n",
    "reconstructed_function(weights, x).shape"
   ]
  },
  {
   "cell_type": "code",
   "execution_count": 20,
   "metadata": {},
   "outputs": [
    {
     "data": {
      "image/png": "[encoded data removed]",
      "text/plain": [
       "<Figure size 800x400 with 1 Axes>"
      ]
     },
     "metadata": {},
     "output_type": "display_data"
    }
   ],
   "source": [
    "cmap = plt.colormaps[\"autumn_r\"]\n",
    "colors = [cmap((i + 0.5) / (k_max + 0.5)) for i in range(k_max + 1)]\n",
    "f_color = \"#1b62a3\"\n",
    "\n",
    "plt.figure(figsize=(8, 4))\n",
    "for k in range(k_max + 1):\n",
    "    y = reconstructed_function(weights[: k + 1], x)\n",
    "    plt.plot(x, y, color=colors[k], linestyle=\"-\" if k % 2 == 0 else \"--\")\n",
    "    plt.xlabel(\"$x$\")\n",
    "    plt.ylabel(r\"$f(x)$  \", rotation=0)\n",
    "    plt.grid(True)\n",
    "\n",
    "u = reconstructed_function(weights, x)\n",
    "plt.plot(x, y, linewidth=3, color=f_color)\n",
    "plt.axis([0, 1, -2, 3.2])\n",
    "plt.text(0.03, -0.45, r\"$h_0\\mathcal{P}_0(x)$\", color=colors[0])\n",
    "plt.text(0.51, -0.65, r\"$h_0\\mathcal{P}_0(x) + h_1\\mathcal{P}_1(x)$\", color=colors[1], rotation=-12.5)\n",
    "plt.text(0.08, -0.91, r\"$h_0\\mathcal{P}_0(x) + ⋯ + h_2\\mathcal{P}_2(x)$\", color=colors[2])\n",
    "plt.text(0.15, 1.45, r\"$h_0\\mathcal{P}_0(x) + ⋯ + h_3\\mathcal{P}_3(x)$\", color=colors[3])\n",
    "plt.text(0.65, 2.52, r\"$h_0\\mathcal{P}_0(x) + ⋯ + h_4\\mathcal{P}_4(x)$\", color=colors[4])\n",
    "plt.text(0.02, 2.52, r\"$f(x)$\", color=f_color, fontsize=20)\n",
    "\n",
    "plt.show()"
   ]
  },
  {
   "cell_type": "markdown",
   "metadata": {},
   "source": [
    "# The HiPPO Framework"
   ]
  },
  {
   "cell_type": "markdown",
   "metadata": {},
   "source": [
    "Legendre (scaled) transition matrices:"
   ]
  },
  {
   "cell_type": "code",
   "execution_count": 21,
   "metadata": {},
   "outputs": [],
   "source": [
    "def legs(d_state):\n",
    "    q = torch.arange(d_state, dtype=torch.float32)\n",
    "    col, row = torch.meshgrid(q, q, indexing='xy')\n",
    "    r = 2 * q + 1\n",
    "    M = -(torch.where(row >= col, r.unsqueeze(0).expand(d_state, d_state),\n",
    "                      torch.zeros(d_state, d_state)) - torch.diag(q))\n",
    "    T = torch.sqrt(torch.diag(2 * q + 1))\n",
    "    A = T @ M @ torch.linalg.inv(T)\n",
    "    B = torch.diag(T).unsqueeze(1)\n",
    "    return A, B"
   ]
  },
  {
   "cell_type": "code",
   "execution_count": 22,
   "metadata": {},
   "outputs": [
    {
     "data": {
      "text/plain": [
       "tensor([[-1.0000,  0.0000,  0.0000],\n",
       "        [-1.7321, -2.0000,  0.0000],\n",
       "        [-2.2361, -3.8730, -3.0000]])"
      ]
     },
     "execution_count": 22,
     "metadata": {},
     "output_type": "execute_result"
    }
   ],
   "source": [
    "A, B = legs(3)\n",
    "A"
   ]
  },
  {
   "cell_type": "code",
   "execution_count": 23,
   "metadata": {},
   "outputs": [
    {
     "data": {
      "text/plain": [
       "tensor([[1.0000],\n",
       "        [1.7321],\n",
       "        [2.2361]])"
      ]
     },
     "execution_count": 23,
     "metadata": {},
     "output_type": "execute_result"
    }
   ],
   "source": [
    "B"
   ]
  },
  {
   "cell_type": "markdown",
   "metadata": {},
   "source": [
    "Legendre (translated) transition matrices:"
   ]
  },
  {
   "cell_type": "code",
   "execution_count": 24,
   "metadata": {},
   "outputs": [],
   "source": [
    "def legt(d_state):\n",
    "    Q = torch.arange(d_state, dtype=torch.float32)\n",
    "    R = (2 * Q + 1) ** 0.5\n",
    "    j, i = torch.meshgrid(Q, Q, indexing='xy')\n",
    "    A = R.unsqueeze(1) * torch.where(i < j, (-1.)**(i - j),\n",
    "                                     torch.ones_like(i)) * R.unsqueeze(0)\n",
    "    B = R.unsqueeze(1)\n",
    "    return -A * 0.5, B * 0.5"
   ]
  },
  {
   "cell_type": "code",
   "execution_count": 25,
   "metadata": {},
   "outputs": [
    {
     "data": {
      "text/plain": [
       "tensor([[-0.5000,  0.8660, -1.1180],\n",
       "        [-0.8660, -1.5000,  1.9365],\n",
       "        [-1.1180, -1.9365, -2.5000]])"
      ]
     },
     "execution_count": 25,
     "metadata": {},
     "output_type": "execute_result"
    }
   ],
   "source": [
    "A, B = legt(3)\n",
    "A"
   ]
  },
  {
   "cell_type": "code",
   "execution_count": 26,
   "metadata": {},
   "outputs": [
    {
     "data": {
      "text/plain": [
       "tensor([[0.5000],\n",
       "        [0.8660],\n",
       "        [1.1180]])"
      ]
     },
     "execution_count": 26,
     "metadata": {},
     "output_type": "execute_result"
    }
   ],
   "source": [
    "B"
   ]
  },
  {
   "cell_type": "markdown",
   "metadata": {},
   "source": [
    "Laguerre (translated) transition matrices:"
   ]
  },
  {
   "cell_type": "code",
   "execution_count": 27,
   "metadata": {},
   "outputs": [],
   "source": [
    "def lagt(d_state, beta=1.0):\n",
    "    ones = torch.ones((d_state, d_state))\n",
    "    A = torch.eye(d_state) / 2 - torch.tril(ones)\n",
    "    B = beta * ones[:, 1]\n",
    "    return A, B"
   ]
  },
  {
   "cell_type": "code",
   "execution_count": 28,
   "metadata": {},
   "outputs": [
    {
     "data": {
      "text/plain": [
       "tensor([[-0.5000,  0.0000,  0.0000],\n",
       "        [-1.0000, -0.5000,  0.0000],\n",
       "        [-1.0000, -1.0000, -0.5000]])"
      ]
     },
     "execution_count": 28,
     "metadata": {},
     "output_type": "execute_result"
    }
   ],
   "source": [
    "A, B = lagt(3)\n",
    "A"
   ]
  },
  {
   "cell_type": "code",
   "execution_count": 29,
   "metadata": {},
   "outputs": [
    {
     "data": {
      "text/plain": [
       "tensor([1., 1., 1.])"
      ]
     },
     "execution_count": 29,
     "metadata": {},
     "output_type": "execute_result"
    }
   ],
   "source": [
    "B"
   ]
  },
  {
   "cell_type": "markdown",
   "metadata": {},
   "source": [
    "# S4"
   ]
  },
  {
   "cell_type": "code",
   "execution_count": 30,
   "metadata": {},
   "outputs": [],
   "source": [
    "import torch.nn.functional as F\n",
    "from torch.fft import rfft, irfft\n",
    "\n",
    "def convolution_in_time_domain(k, u):\n",
    "    B, d, L = u.shape  # B = batch size, d = input/output dim, L = seq. length\n",
    "    u_padded = F.pad(u, (L - 1, 0))  # pad left; shape (B, d, L + L - 1)\n",
    "    k_flipped = k.flip(dims=[-1]).unsqueeze(1)  # shape (d, 1, L)\n",
    "    y = F.conv1d(u_padded, k_flipped, groups=d)  # shape (d, 1, L)\n",
    "    return y\n",
    "\n",
    "def convolution_in_frequency_domain(k, u):\n",
    "    B, d, L = u.shape\n",
    "    n = L + L - 1\n",
    "    u_f = rfft(u, n=n)  # shape (B, d, n)\n",
    "    k_f = rfft(k, n=n)  # shape (B, d, n)\n",
    "    y_f = u_f * k_f.unsqueeze(0)  # shape (B, d, n)\n",
    "    y = irfft(y_f, n=n)[..., :L]  # shape (B, d, L)\n",
    "    return y"
   ]
  },
  {
   "cell_type": "code",
   "execution_count": 31,
   "metadata": {},
   "outputs": [
    {
     "data": {
      "text/plain": [
       "tensor(6.3313e-11, device='cuda:0')"
      ]
     },
     "execution_count": 31,
     "metadata": {},
     "output_type": "execute_result"
    }
   ],
   "source": [
    "torch.manual_seed(42)\n",
    "B, d_input, L = 32, 8, 512\n",
    "u = torch.randn(B, d_input, L).to(device)\n",
    "k = torch.randn(d_input, L).to(device)\n",
    "result1 = convolution_in_time_domain(k, u)\n",
    "result2 = convolution_in_frequency_domain(k, u)\n",
    "mse = ((result1 - result2) ** 2).mean()\n",
    "mse"
   ]
  },
  {
   "cell_type": "markdown",
   "metadata": {},
   "source": [
    "# Mamba"
   ]
  },
  {
   "cell_type": "markdown",
   "metadata": {},
   "source": [
    "To get the best speed, we need the fused GPU kernel for the Mamba SSM (discussed in the book), as well as a GPU kernel for the causal 1D convolution used in the Mamba block. For the former, we need the mamba-ssm library, which is only available on Linux, using an NVIDIA GPU with CUDA 11.6+. For the latter, we can install the causal-conv1d library."
   ]
  },
  {
   "cell_type": "markdown",
   "metadata": {},
   "source": [
    "If you are running this notebook on your own Linux machine with a CUDA 11.6+ GPU, you must install these libraries manually. If you followed the [installation instructions](https://github.com/ageron/handson-mlp/blob/main/INSTALL.md), then you are using the `uv` package manager: in this case, you must open a terminal, activate the virtual environment for this project, and run `uv pip install causal-conv1d` and `uv pip install mamba-ssm`. The packages will be built from source, which will require the essential tools for building a C++ project, as well as the CUDA toolkit."
   ]
  },
  {
   "cell_type": "markdown",
   "metadata": {},
   "source": [
    "**WARNING**: The following cell will take over 20 minutes to run, as the libraries need to be built from the source code."
   ]
  },
  {
   "cell_type": "code",
   "execution_count": 32,
   "metadata": {},
   "outputs": [
    {
     "name": "stdout",
     "output_type": "stream",
     "text": [
      "Collecting causal-conv1d\n",
      "  Downloading causal_conv1d-1.5.3.post1.tar.gz (24 kB)\n",
      "  Installing build dependencies ... \u001b[?25l\u001b[?25hdone\n",
      "  Getting requirements to build wheel ... \u001b[?25l\u001b[?25hdone\n",
      "  Preparing metadata (pyproject.toml) ... \u001b[?25l\u001b[?25hdone\n",
      "Requirement already satisfied: torch in /usr/local/lib/python3.12/dist-packages (from causal-conv1d) (2.8.0+cu126)\n",
      "Requirement already satisfied: packaging in /usr/local/lib/python3.12/dist-packages (from causal-conv1d) (25.0)\n",
      "Collecting ninja (from causal-conv1d)\n",
      "  Downloading ninja-1.13.0-py3-none-manylinux2014_x86_64.manylinux_2_17_x86_64.whl.metadata (5.1 kB)\n",
      "Requirement already satisfied: filelock in /usr/local/lib/python3.12/dist-packages (from torch->causal-conv1d) (3.20.0)\n",
      "Requirement already satisfied: typing-extensions>=4.10.0 in /usr/local/lib/python3.12/dist-packages (from torch->causal-conv1d) (4.15.0)\n",
      "Requirement already satisfied: setuptools in /usr/local/lib/python3.12/dist-packages (from torch->causal-conv1d) (75.2.0)\n",
      "Requirement already satisfied: sympy>=1.13.3 in /usr/local/lib/python3.12/dist-packages (from torch->causal-conv1d) (1.13.3)\n",
      "Requirement already satisfied: networkx in /usr/local/lib/python3.12/dist-packages (from torch->causal-conv1d) (3.5)\n",
      "Requirement already satisfied: jinja2 in /usr/local/lib/python3.12/dist-packages (from torch->causal-conv1d) (3.1.6)\n",
      "Requirement already satisfied: fsspec in /usr/local/lib/python3.12/dist-packages (from torch->causal-conv1d) (2025.3.0)\n",
      "Requirement already satisfied: nvidia-cuda-nvrtc-cu12==12.6.77 in /usr/local/lib/python3.12/dist-packages (from torch->causal-conv1d) (12.6.77)\n",
      "Requirement already satisfied: nvidia-cuda-runtime-cu12==12.6.77 in /usr/local/lib/python3.12/dist-packages (from torch->causal-conv1d) (12.6.77)\n",
      "Requirement already satisfied: nvidia-cuda-cupti-cu12==12.6.80 in /usr/local/lib/python3.12/dist-packages (from torch->causal-conv1d) (12.6.80)\n",
      "Requirement already satisfied: nvidia-cudnn-cu12==9.10.2.21 in /usr/local/lib/python3.12/dist-packages (from torch->causal-conv1d) (9.10.2.21)\n",
      "Requirement already satisfied: nvidia-cublas-cu12==12.6.4.1 in /usr/local/lib/python3.12/dist-packages (from torch->causal-conv1d) (12.6.4.1)\n",
      "Requirement already satisfied: nvidia-cufft-cu12==11.3.0.4 in /usr/local/lib/python3.12/dist-packages (from torch->causal-conv1d) (11.3.0.4)\n",
      "Requirement already satisfied: nvidia-curand-cu12==10.3.7.77 in /usr/local/lib/python3.12/dist-packages (from torch->causal-conv1d) (10.3.7.77)\n",
      "Requirement already satisfied: nvidia-cusolver-cu12==11.7.1.2 in /usr/local/lib/python3.12/dist-packages (from torch->causal-conv1d) (11.7.1.2)\n",
      "Requirement already satisfied: nvidia-cusparse-cu12==12.5.4.2 in /usr/local/lib/python3.12/dist-packages (from torch->causal-conv1d) (12.5.4.2)\n",
      "Requirement already satisfied: nvidia-cusparselt-cu12==0.7.1 in /usr/local/lib/python3.12/dist-packages (from torch->causal-conv1d) (0.7.1)\n",
      "Requirement already satisfied: nvidia-nccl-cu12==2.27.3 in /usr/local/lib/python3.12/dist-packages (from torch->causal-conv1d) (2.27.3)\n",
      "Requirement already satisfied: nvidia-nvtx-cu12==12.6.77 in /usr/local/lib/python3.12/dist-packages (from torch->causal-conv1d) (12.6.77)\n",
      "Requirement already satisfied: nvidia-nvjitlink-cu12==12.6.85 in /usr/local/lib/python3.12/dist-packages (from torch->causal-conv1d) (12.6.85)\n",
      "Requirement already satisfied: nvidia-cufile-cu12==1.11.1.6 in /usr/local/lib/python3.12/dist-packages (from torch->causal-conv1d) (1.11.1.6)\n",
      "Requirement already satisfied: triton==3.4.0 in /usr/local/lib/python3.12/dist-packages (from torch->causal-conv1d) (3.4.0)\n",
      "Requirement already satisfied: mpmath<1.4,>=1.1.0 in /usr/local/lib/python3.12/dist-packages (from sympy>=1.13.3->torch->causal-conv1d) (1.3.0)\n",
      "Requirement already satisfied: MarkupSafe>=2.0 in /usr/local/lib/python3.12/dist-packages (from jinja2->torch->causal-conv1d) (3.0.3)\n",
      "Downloading ninja-1.13.0-py3-none-manylinux2014_x86_64.manylinux_2_17_x86_64.whl (180 kB)\n",
      "\u001b[2K   \u001b[90m━━━━━━━━━━━━━━━━━━━━━━━━━━━━━━━━━━━━━━━━\u001b[0m \u001b[32m180.7/180.7 kB\u001b[0m \u001b[31m6.8 MB/s\u001b[0m eta \u001b[36m0:00:00\u001b[0m\n",
      "<<27 more lines>>\n",
      "Requirement already satisfied: nvidia-cuda-runtime-cu12==12.6.77 in /usr/local/lib/python3.12/dist-packages (from torch->mamba-ssm) (12.6.77)\n",
      "Requirement already satisfied: nvidia-cuda-cupti-cu12==12.6.80 in /usr/local/lib/python3.12/dist-packages (from torch->mamba-ssm) (12.6.80)\n",
      "Requirement already satisfied: nvidia-cudnn-cu12==9.10.2.21 in /usr/local/lib/python3.12/dist-packages (from torch->mamba-ssm) (9.10.2.21)\n",
      "Requirement already satisfied: nvidia-cublas-cu12==12.6.4.1 in /usr/local/lib/python3.12/dist-packages (from torch->mamba-ssm) (12.6.4.1)\n",
      "Requirement already satisfied: nvidia-cufft-cu12==11.3.0.4 in /usr/local/lib/python3.12/dist-packages (from torch->mamba-ssm) (11.3.0.4)\n",
      "Requirement already satisfied: nvidia-curand-cu12==10.3.7.77 in /usr/local/lib/python3.12/dist-packages (from torch->mamba-ssm) (10.3.7.77)\n",
      "Requirement already satisfied: nvidia-cusolver-cu12==11.7.1.2 in /usr/local/lib/python3.12/dist-packages (from torch->mamba-ssm) (11.7.1.2)\n",
      "Requirement already satisfied: nvidia-cusparse-cu12==12.5.4.2 in /usr/local/lib/python3.12/dist-packages (from torch->mamba-ssm) (12.5.4.2)\n",
      "Requirement already satisfied: nvidia-cusparselt-cu12==0.7.1 in /usr/local/lib/python3.12/dist-packages (from torch->mamba-ssm) (0.7.1)\n",
      "Requirement already satisfied: nvidia-nccl-cu12==2.27.3 in /usr/local/lib/python3.12/dist-packages (from torch->mamba-ssm) (2.27.3)\n",
      "Requirement already satisfied: nvidia-nvtx-cu12==12.6.77 in /usr/local/lib/python3.12/dist-packages (from torch->mamba-ssm) (12.6.77)\n",
      "Requirement already satisfied: nvidia-nvjitlink-cu12==12.6.85 in /usr/local/lib/python3.12/dist-packages (from torch->mamba-ssm) (12.6.85)\n",
      "Requirement already satisfied: nvidia-cufile-cu12==1.11.1.6 in /usr/local/lib/python3.12/dist-packages (from torch->mamba-ssm) (1.11.1.6)\n",
      "Requirement already satisfied: huggingface-hub<1.0,>=0.34.0 in /usr/local/lib/python3.12/dist-packages (from transformers->mamba-ssm) (0.35.3)\n",
      "Requirement already satisfied: numpy>=1.17 in /usr/local/lib/python3.12/dist-packages (from transformers->mamba-ssm) (2.0.2)\n",
      "Requirement already satisfied: pyyaml>=5.1 in /usr/local/lib/python3.12/dist-packages (from transformers->mamba-ssm) (6.0.3)\n",
      "Requirement already satisfied: regex!=2019.12.17 in /usr/local/lib/python3.12/dist-packages (from transformers->mamba-ssm) (2024.11.6)\n",
      "Requirement already satisfied: requests in /usr/local/lib/python3.12/dist-packages (from transformers->mamba-ssm) (2.32.4)\n",
      "Requirement already satisfied: tokenizers<=0.23.0,>=0.22.0 in /usr/local/lib/python3.12/dist-packages (from transformers->mamba-ssm) (0.22.1)\n",
      "Requirement already satisfied: safetensors>=0.4.3 in /usr/local/lib/python3.12/dist-packages (from transformers->mamba-ssm) (0.6.2)\n",
      "Requirement already satisfied: tqdm>=4.27 in /usr/local/lib/python3.12/dist-packages (from transformers->mamba-ssm) (4.67.1)\n",
      "Requirement already satisfied: hf-xet<2.0.0,>=1.1.3 in /usr/local/lib/python3.12/dist-packages (from huggingface-hub<1.0,>=0.34.0->transformers->mamba-ssm) (1.1.10)\n",
      "Requirement already satisfied: mpmath<1.4,>=1.1.0 in /usr/local/lib/python3.12/dist-packages (from sympy>=1.13.3->torch->mamba-ssm) (1.3.0)\n",
      "Requirement already satisfied: MarkupSafe>=2.0 in /usr/local/lib/python3.12/dist-packages (from jinja2->torch->mamba-ssm) (3.0.3)\n",
      "Requirement already satisfied: charset_normalizer<4,>=2 in /usr/local/lib/python3.12/dist-packages (from requests->transformers->mamba-ssm) (3.4.4)\n",
      "Requirement already satisfied: idna<4,>=2.5 in /usr/local/lib/python3.12/dist-packages (from requests->transformers->mamba-ssm) (3.11)\n",
      "Requirement already satisfied: urllib3<3,>=1.21.1 in /usr/local/lib/python3.12/dist-packages (from requests->transformers->mamba-ssm) (2.5.0)\n",
      "Requirement already satisfied: certifi>=2017.4.17 in /usr/local/lib/python3.12/dist-packages (from requests->transformers->mamba-ssm) (2025.10.5)\n",
      "Building wheels for collected packages: mamba-ssm\n",
      "  Building wheel for mamba-ssm (pyproject.toml) ... \u001b[?25l\u001b[?25hdone\n",
      "  Created wheel for mamba-ssm: filename=mamba_ssm-2.2.6.post3-cp312-cp312-linux_x86_64.whl size=370563361 sha256=39cc72236181a8760752c8b08df6ff7101f7bb104ee8ebfaa58ef35fba616d4f\n",
      "  Stored in directory: /root/.cache/pip/wheels/a9/66/b0/91003b49a34b45995d1b34c7fd2c70cd998a23560e66f6817a\n",
      "Successfully built mamba-ssm\n",
      "Installing collected packages: mamba-ssm\n",
      "Successfully installed mamba-ssm-2.2.6.post3\n"
     ]
    }
   ],
   "source": [
    "if (IS_COLAB or IS_KAGGLE) and device == \"cuda\":\n",
    "    %pip install causal-conv1d\n",
    "    %pip install mamba-ssm"
   ]
  },
  {
   "cell_type": "markdown",
   "metadata": {},
   "source": [
    "A pretrained Mamba model can be downloaded using the Hugging Face Transformers library, and used to generate text exactly like transformer models:"
   ]
  },
  {
   "cell_type": "code",
   "execution_count": 33,
   "metadata": {},
   "outputs": [
    {
     "data": {
      "application/vnd.jupyter.widget-view+json": {
       "model_id": "278b3d6afa0a49afa31128a13f9c3a79",
       "version_major": 2,
       "version_minor": 0
      },
      "text/plain": [
       "config.json:   0%|          | 0.00/878 [00:00<?, ?B/s]"
      ]
     },
     "metadata": {},
     "output_type": "display_data"
    },
    {
     "data": {
      "application/vnd.jupyter.widget-view+json": {
       "model_id": "f128100e0d684835b1e7ce7e198147d4",
       "version_major": 2,
       "version_minor": 0
      },
      "text/plain": [
       "model.safetensors:   0%|          | 0.00/3.17G [00:00<?, ?B/s]"
      ]
     },
     "metadata": {},
     "output_type": "display_data"
    },
    {
     "data": {
      "application/vnd.jupyter.widget-view+json": {
       "model_id": "d295b158ef2148d283c4d04ef4af81d9",
       "version_major": 2,
       "version_minor": 0
      },
      "text/plain": [
       "generation_config.json:   0%|          | 0.00/137 [00:00<?, ?B/s]"
      ]
     },
     "metadata": {},
     "output_type": "display_data"
    },
    {
     "data": {
      "application/vnd.jupyter.widget-view+json": {
       "model_id": "f52f3eb4981d4fa2a31caf01ca1ad67f",
       "version_major": 2,
       "version_minor": 0
      },
      "text/plain": [
       "tokenizer_config.json: 0.00B [00:00, ?B/s]"
      ]
     },
     "metadata": {},
     "output_type": "display_data"
    },
    {
     "data": {
      "application/vnd.jupyter.widget-view+json": {
       "model_id": "e5bec88ac5eb4b9787be3e1dbf1f81ac",
       "version_major": 2,
       "version_minor": 0
      },
      "text/plain": [
       "tokenizer.json: 0.00B [00:00, ?B/s]"
      ]
     },
     "metadata": {},
     "output_type": "display_data"
    },
    {
     "name": "stdout",
     "output_type": "stream",
     "text": [
      "State space models are used to model the dynamics of the system. The state space model is a system of ordinary differential equations (ODEs) that describe the evolution of the system over time. The state space model is a system of ODEs\n"
     ]
    }
   ],
   "source": [
    "from transformers import AutoTokenizer, AutoModelForCausalLM\n",
    "\n",
    "model_id = \"state-spaces/mamba-790m-hf\"  # or mamba-2.8b if it fits on your GPU\n",
    "model = AutoModelForCausalLM.from_pretrained(model_id)\n",
    "tokenizer = AutoTokenizer.from_pretrained(model_id)\n",
    "input_text = \"State space models are\"\n",
    "inputs = tokenizer(input_text, return_tensors=\"pt\")\n",
    "outputs = model.generate(**inputs, max_length=50)  # the usual generation API\n",
    "print(tokenizer.decode(outputs[0], skip_special_tokens=True))"
   ]
  },
  {
   "cell_type": "markdown",
   "metadata": {},
   "source": [
    "If you want to create your own custom Mamba model and train it from scratch, you can create a custom `MambaConfig` object and create a `MambaForCausalLM` model based on this config, for example:"
   ]
  },
  {
   "cell_type": "code",
   "execution_count": 34,
   "metadata": {},
   "outputs": [],
   "source": [
    "from transformers import MambaConfig, MambaForCausalLM\n",
    "\n",
    "custom_config = MambaConfig(  # a tiny toy Mamba model\n",
    "    vocab_size=1000,\n",
    "    hidden_size=64,  # d_model\n",
    "    num_hidden_layers=4,  # number of Mamba blocks\n",
    "    state_size=8,  # d_state\n",
    "    conv_kernel_size=4,  # the Conv1d layer's kernel size\n",
    "    expansion_factor=2,  # the expansion factor E\n",
    ")\n",
    "tiny_mamba = MambaForCausalLM(config=custom_config)"
   ]
  },
  {
   "cell_type": "markdown",
   "metadata": {},
   "source": [
    "If you want full control, you can build your own models based on the `Mamba` and `Mamba2` blocks (this requires the mamba-ssm library):"
   ]
  },
  {
   "cell_type": "code",
   "execution_count": 35,
   "metadata": {},
   "outputs": [],
   "source": [
    "try:\n",
    "    from mamba_ssm import Mamba  # or Mamba2\n",
    "\n",
    "    mamba_block = Mamba(d_model=32, d_state=16, d_conv=4, expand=2)\n",
    "except ImportError:\n",
    "    print(\"The mamba-ssm library is not installed\")"
   ]
  },
  {
   "cell_type": "markdown",
   "metadata": {},
   "source": [
    "# Extra Material – Transition Matrices for Various HiPPO Methods"
   ]
  },
  {
   "cell_type": "markdown",
   "metadata": {},
   "source": [
    "Note: I adapted the following code from https://github.com/state-spaces/s4/blob/main/src/models/hippo/hippo.py:"
   ]
  },
  {
   "cell_type": "markdown",
   "metadata": {},
   "source": [
    "This code creates the transition matrices for various HiPPO methods."
   ]
  },
  {
   "cell_type": "code",
   "execution_count": 36,
   "metadata": {},
   "outputs": [],
   "source": [
    "import numpy as np\n",
    "from scipy.special import binom, gammaln\n",
    "\n",
    "def lagt(N, beta=1.0):\n",
    "    \"\"\"Laguerre (translated) transition matrices.\"\"\"\n",
    "    A = torch.eye(N) / 2 - torch.tril(torch.ones((N, N)))\n",
    "    B = beta * torch.ones((N, 1))\n",
    "    return A, B\n",
    "\n",
    "\n",
    "def tlagt(N, beta=1.0):\n",
    "    \"\"\"Tilted Laguerre (translated) transition matrices.\n",
    "    beta = 1 corresponds to no tilt.\n",
    "    \"\"\"\n",
    "    A = (1. - beta) / 2 * torch.eye(N) - torch.tril(torch.ones((N, N)))\n",
    "    B = beta * torch.ones((N, 1))\n",
    "    return A, B\n",
    "\n",
    "\n",
    "def glagt(N, alpha=0.0, beta=0.01):\n",
    "    \"\"\"Generalized Laguerre transition matrices.\n",
    "    alpha 0, beta small is most stable (limits to the 'lagt' measure).\n",
    "    alpha 0, beta 1 has transition matrix A = [lower triangular 1].\n",
    "\n",
    "    Note: Uses NumPy/SciPy for special functions (binom, gammaln).\n",
    "    \"\"\"\n",
    "    A = -np.eye(N) * (1 + beta) / 2 - np.tril(np.ones((N, N)), -1)\n",
    "    B = binom(alpha + np.arange(N), np.arange(N))[:, None]\n",
    "\n",
    "    L = np.exp(.5 * (gammaln(np.arange(N) + alpha + 1) - gammaln(np.arange(N) + 1)))\n",
    "    A = (1. / L[:, None]) * A * L[None, :]\n",
    "    B = (1. / L[:, None]) * B * np.exp(-.5 * gammaln(1 - alpha)) * beta**((1 - alpha) / 2)\n",
    "\n",
    "    A = torch.from_numpy(A).float()\n",
    "    B = torch.from_numpy(B).float()\n",
    "    return A, B\n",
    "\n",
    "\n",
    "def legt(N):\n",
    "    \"\"\"Legendre (translated) transition matrices.\"\"\"\n",
    "    Q = torch.arange(N, dtype=torch.float32)\n",
    "    R = (2 * Q + 1) ** .5\n",
    "    j, i = torch.meshgrid(Q, Q, indexing='xy')\n",
    "    A = R.unsqueeze(1) * torch.where(i < j, (-1.)**(i - j), torch.ones_like(i)) * R.unsqueeze(0)\n",
    "    B = R.unsqueeze(1)\n",
    "    A = -A\n",
    "\n",
    "    # Halve again for timescale correctness\n",
    "    A *= 0.5\n",
    "    B *= 0.5\n",
    "    return A, B\n",
    "\n",
    "\n",
    "def lmu(N):\n",
    "    \"\"\"LMU: equivalent to LegT up to normalization.\"\"\"\n",
    "    Q = torch.arange(N, dtype=torch.float32)\n",
    "    R = (2 * Q + 1).unsqueeze(1)\n",
    "    j, i = torch.meshgrid(Q, Q, indexing='xy')\n",
    "    A = torch.where(i < j, -torch.ones_like(i), (-1.)**(i - j + 1)) * R\n",
    "    B = (-1.)**Q.unsqueeze(1) * R\n",
    "    return A, B\n",
    "\n",
    "\n",
    "def legs(N):\n",
    "    \"\"\"Legendre (scaled) transition matrices.\"\"\"\n",
    "    q = torch.arange(N, dtype=torch.float32)\n",
    "    col, row = torch.meshgrid(q, q, indexing='xy')\n",
    "    r = 2 * q + 1\n",
    "    M = -(torch.where(row >= col, r.unsqueeze(0).expand(N, N), torch.zeros(N, N)) - torch.diag(q))\n",
    "    T = torch.sqrt(torch.diag(2 * q + 1))\n",
    "    A = T @ M @ torch.linalg.inv(T)\n",
    "    B = torch.diag(T).unsqueeze(1)\n",
    "    return A, B\n",
    "\n",
    "\n",
    "def legsd(N):\n",
    "    \"\"\"Legendre (scaled, variant) transition matrices.\"\"\"\n",
    "    q = torch.arange(N, dtype=torch.float32)\n",
    "    col, row = torch.meshgrid(q, q, indexing='xy')\n",
    "    r = 2 * q + 1\n",
    "    M = -(torch.where(row >= col, r.unsqueeze(0).expand(N, N), torch.zeros(N, N)) - torch.diag(q))\n",
    "    T = torch.sqrt(torch.diag(2 * q + 1))\n",
    "    A = T @ M @ torch.linalg.inv(T)\n",
    "    B = torch.diag(T).unsqueeze(1)\n",
    "    A += .5 * B * B.transpose(0, 1)\n",
    "    B = B / 2.0\n",
    "    return A, B\n",
    "\n",
    "\n",
    "def fourier_diag(N):\n",
    "    \"\"\"Fourier (diagonal variant) transition matrices.\"\"\"\n",
    "    assert N % 2 == 0\n",
    "    freqs = torch.arange(N // 2, dtype=torch.float32)\n",
    "    d = torch.stack([freqs, torch.zeros(N // 2)], dim=-1).reshape(-1)[:-1]\n",
    "    A = 2 * torch.pi * (-torch.diag(d, 1) + torch.diag(d, -1))\n",
    "    A = A - .5 * torch.eye(N)\n",
    "    B = torch.zeros(N)\n",
    "    B[0::2] = 2**.5\n",
    "    B[0] = 1\n",
    "    B = B.unsqueeze(1)\n",
    "    return A, B\n",
    "\n",
    "\n",
    "def fourier(N):\n",
    "    \"\"\"Fourier transition matrices.\"\"\"\n",
    "    assert N % 2 == 0\n",
    "    freqs = torch.arange(N // 2, dtype=torch.float32)\n",
    "    d = torch.stack([torch.zeros(N // 2), freqs], dim=-1).reshape(-1)[1:]\n",
    "    A = torch.pi * (-torch.diag(d, 1) + torch.diag(d, -1))\n",
    "    B = torch.zeros(N)\n",
    "    B[0::2] = 2**.5\n",
    "    B[0] = 1\n",
    "\n",
    "    # Subtract off rank correction - this corresponds to the other endpoint u(t-1)\n",
    "    A = A - B.unsqueeze(1) * B.unsqueeze(0)\n",
    "    B = B.unsqueeze(1)\n",
    "    return A, B\n",
    "\n",
    "\n",
    "def fourier_decay(N):\n",
    "    \"\"\"Fourier (with decay) transition matrices.\"\"\"\n",
    "    assert N % 2 == 0\n",
    "    freqs = torch.arange(N // 2, dtype=torch.float32)\n",
    "    d = torch.stack([torch.zeros(N // 2), freqs], dim=-1).reshape(-1)[1:]\n",
    "    A = torch.pi * (-torch.diag(d, 1) + torch.diag(d, -1))\n",
    "    B = torch.zeros(N)\n",
    "    B[0::2] = 2**.5\n",
    "    B[0] = 1\n",
    "\n",
    "    # Subtract off rank correction - this corresponds to the other endpoint u(t-1)\n",
    "    A = A - .5 * B.unsqueeze(1) * B.unsqueeze(0)\n",
    "    B = .5 * B.unsqueeze(1)\n",
    "    return A, B\n",
    "\n",
    "\n",
    "def fourier2(N):\n",
    "    \"\"\"Fourier (double frequency): orthonormal on [0, 1].\"\"\"\n",
    "    assert N % 2 == 0\n",
    "    freqs = 2 * torch.arange(N // 2, dtype=torch.float32)\n",
    "    d = torch.stack([torch.zeros(N // 2), freqs], dim=-1).reshape(-1)[1:]\n",
    "    A = torch.pi * (-torch.diag(d, 1) + torch.diag(d, -1))\n",
    "    B = torch.zeros(N)\n",
    "    B[0::2] = 2**.5\n",
    "    B[0] = 1\n",
    "\n",
    "    # Subtract off rank correction - this corresponds to the other endpoint u(t-1)\n",
    "    A = A - B.unsqueeze(1) * B.unsqueeze(0) * 2\n",
    "    B = B.unsqueeze(1) * 2\n",
    "    return A, B\n",
    "\n",
    "\n",
    "def random_transition(N):\n",
    "    \"\"\"Random transition matrices.\"\"\"\n",
    "    A = torch.randn(N, N) / N\n",
    "    B = torch.randn(N, 1)\n",
    "    return A, B\n",
    "\n",
    "\n",
    "def diagonal_transition(N):\n",
    "    \"\"\"Diagonal transition matrices.\"\"\"\n",
    "    A = -torch.diag(torch.exp(torch.randn(N)))\n",
    "    B = torch.randn(N, 1)\n",
    "    return A, B"
   ]
  },
  {
   "cell_type": "code",
   "execution_count": 37,
   "metadata": {},
   "outputs": [
    {
     "name": "stdout",
     "output_type": "stream",
     "text": [
      "--------------------------------------------------------------------------------\n",
      "diagonal_transition\n",
      "A =\n",
      "tensor([[-2.9935, -0.0000, -0.0000, -0.0000],\n",
      "        [-0.0000, -0.2566, -0.0000, -0.0000],\n",
      "        [-0.0000, -0.0000, -1.3633, -0.0000],\n",
      "        [-0.0000, -0.0000, -0.0000, -1.3772]])\n",
      "B =\n",
      "tensor([[ 0.2195],\n",
      "        [-0.1543],\n",
      "        [-0.3843],\n",
      "        [ 1.0100]])\n",
      "\n",
      "--------------------------------------------------------------------------------\n",
      "fourier_decay\n",
      "A =\n",
      "tensor([[-0.5000,  0.0000, -0.7071,  0.0000],\n",
      "        [ 0.0000,  0.0000,  0.0000,  0.0000],\n",
      "        [-0.7071,  0.0000, -1.0000, -3.1416],\n",
      "        [ 0.0000,  0.0000,  3.1416,  0.0000]])\n",
      "B =\n",
      "tensor([[0.5000],\n",
      "        [0.0000],\n",
      "        [0.7071],\n",
      "        [0.0000]])\n",
      "\n",
      "--------------------------------------------------------------------------------\n",
      "fourier_diag\n",
      "A =\n",
      "tensor([[-0.5000,  0.0000,  0.0000,  0.0000],\n",
      "        [ 0.0000, -0.5000,  0.0000,  0.0000],\n",
      "        [ 0.0000,  0.0000, -0.5000, -6.2832],\n",
      "        [ 0.0000,  0.0000,  6.2832, -0.5000]])\n",
      "B =\n",
      "tensor([[1.0000],\n",
      "<<99 more lines>>\n",
      "        [ 3., -3., -3., -3.],\n",
      "        [-5.,  5., -5., -5.],\n",
      "        [ 7., -7.,  7., -7.]])\n",
      "B =\n",
      "tensor([[ 1.],\n",
      "        [-3.],\n",
      "        [ 5.],\n",
      "        [-7.]])\n",
      "\n",
      "--------------------------------------------------------------------------------\n",
      "random_transition\n",
      "A =\n",
      "tensor([[ 0.2950,  0.2579,  0.0686,  0.1599],\n",
      "        [-0.2516,  0.0723,  0.3364, -0.0044],\n",
      "        [ 0.1973,  0.1631,  0.1098, -0.1379],\n",
      "        [ 0.1346,  0.1860, -0.0325,  0.3348]])\n",
      "B =\n",
      "tensor([[0.9529],\n",
      "        [0.8084],\n",
      "        [0.0954],\n",
      "        [0.6969]])\n",
      "\n",
      "--------------------------------------------------------------------------------\n",
      "tlagt\n",
      "A =\n",
      "tensor([[-1.,  0.,  0.,  0.],\n",
      "        [-1., -1.,  0.,  0.],\n",
      "        [-1., -1., -1.,  0.],\n",
      "        [-1., -1., -1., -1.]])\n",
      "B =\n",
      "tensor([[1.],\n",
      "        [1.],\n",
      "        [1.],\n",
      "        [1.]])\n",
      "\n"
     ]
    }
   ],
   "source": [
    "N = 4\n",
    "methods = [diagonal_transition, fourier_decay, fourier_diag, fourier, fourier2,\n",
    "           glagt, lagt, legs, legsd, legt, lmu, random_transition, tlagt]\n",
    "for method in methods:\n",
    "    A, B = method(N)\n",
    "    print(\"-\" * 80)\n",
    "    print(method.__name__)\n",
    "    print(\"A =\")\n",
    "    print(A)\n",
    "    print(\"B =\")\n",
    "    print(B)\n",
    "    print()"
   ]
  },
  {
   "cell_type": "code",
   "execution_count": 37,
   "metadata": {},
   "outputs": [],
   "source": []
  }
 ],
 "metadata": {
  "accelerator": "GPU",
  "kernelspec": {
   "display_name": "Python 3",
   "language": "python",
   "name": "python3"
  },
  "language_info": {
   "codemirror_mode": {
    "name": "ipython",
    "version": 3
   },
   "file_extension": ".py",
   "mimetype": "text/x-python",
   "name": "python",
   "nbconvert_exporter": "python",
   "pygments_lexer": "ipython3",
   "version": "3.12.11"
  }
 },
 "nbformat": 4,
 "nbformat_minor": 0
}
